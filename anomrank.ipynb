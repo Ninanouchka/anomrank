{
 "cells": [
  {
   "cell_type": "code",
   "execution_count": 2,
   "id": "f0d5209f",
   "metadata": {},
   "outputs": [],
   "source": [
    "import numpy as np\n",
    "from numpy import linalg as LA\n",
    "from river import anomaly"
   ]
  },
  {
   "cell_type": "code",
   "execution_count": 3,
   "id": "cca7dba3",
   "metadata": {},
   "outputs": [],
   "source": [
    "def read_data(path: str, delimiter: str, step_size: int):\n",
    "    times = []\n",
    "    nodes = []\n",
    "    edges = []\n",
    "\n",
    "    with open(path, \"r\") as graph_file:\n",
    "        lines = graph_file.readlines()\n",
    "\n",
    "    for line in lines:\n",
    "        tokens = line.strip().split(delimiter)\n",
    "        tokens = [int(x) for x in tokens]\n",
    "        edges.append(tokens)\n",
    "        times.append(tokens[0])\n",
    "        nodes.append(tokens[1])\n",
    "        nodes.append(tokens[2])\n",
    "\n",
    "    edges.sort(key=lambda a: a[0])\n",
    "    times.sort()\n",
    "    nodes.sort()\n",
    "\n",
    "    initial_time = times[0]\n",
    "    initial_node = nodes[0]\n",
    "\n",
    "    for i in range(0, len(edges)-1):\n",
    "        edges[i][0] -= initial_time\n",
    "        edges[i][1] -= initial_node\n",
    "        edges[i][2] -= initial_node\n",
    "\n",
    "    n = nodes[-1] - initial_node + 1\n",
    "    m = len(edges)\n",
    "\n",
    "    return (edges, n, m)"
   ]
  },
  {
   "cell_type": "code",
   "execution_count": 4,
   "id": "b195b7b6",
   "metadata": {},
   "outputs": [],
   "source": [
    "edges, n, m = read_data(\"KDD19-AnomRank-master/darpa.txt\", ' ', 60)"
   ]
  },
  {
   "cell_type": "code",
   "execution_count": 56,
   "id": "5d370c92",
   "metadata": {},
   "outputs": [],
   "source": [
    "class Node:\n",
    "    \"\"\"Data structure to store a node and its (weighted) out-edges.\n",
    "    \n",
    "    Parameters\n",
    "    ----------\n",
    "    out_node\n",
    "        list of node names.\n",
    "    out_weight\n",
    "        list of edge weight.\n",
    "\n",
    "    \"\"\"\n",
    "    def __init__(self):\n",
    "        self.total_w = 0\n",
    "        self.out_degree = 0\n",
    "        self.out_node = []\n",
    "        self.out_weight = []\n",
    "    \n",
    "    def __len__(self) -> int:\n",
    "        \"\"\"\n",
    "        Returns the number of nodes receiving a link from current node.\n",
    "        Equilavent to out degree without wight.\n",
    "        \"\"\"\n",
    "        return self.out_degree\n",
    "    \n",
    "    def __str__(self) -> str:\n",
    "         return \"Out-degree: \" + str(len(self.out_node)) + \"\\nOut-weight sum:\" + str(self.total_w)\n",
    "\n",
    "class AnomRank(anomaly.AnomalyDetector):\n",
    "    \"\"\"AnomRank Anomaly detector .\n",
    "    Online algorithm to detect two types of anolamies in a graph: \n",
    "    sudden weight change in edges and sudden structural changes.\n",
    "    This approach is based on tracking the derivatives of adapted PageRank scores for each node. \n",
    "    \n",
    "    Parameters\n",
    "    ----------\n",
    "    n\n",
    "        Number of nodes.\n",
    "    c\n",
    "        The damping factor for PageRank.\n",
    "    E\n",
    "        Epsilon, tolerence to convergence when computing PageRank. \n",
    "        Correspond to the maximal value of the changes in PageRank scores in one iteration \n",
    "        of the algorithm to consider that PageRank has converged.\n",
    "        \n",
    "    Examples\n",
    "    --------\n",
    "    score_list = []\n",
    "    time_step = 60\n",
    "    current_time = 0\n",
    "    batch_edges = []\n",
    "\n",
    "    for edge in tqdm(edges):\n",
    "        if edge[0] >= current_time + time_step:\n",
    "            model.learn_one(batch_edges)\n",
    "            score = model.score_one()\n",
    "            score_list.append(score)\n",
    "            current_time += time_step\n",
    "            batch_edges = [[edge[1], edge[2]]]\n",
    "        else:\n",
    "            batch_edges.append([edge[1], edge[2]])\n",
    "\n",
    "    \n",
    "    \"\"\"\n",
    "    def __init__(self, n: int, c: int = 0.50, E: float = 0.001):\n",
    "        # hyperparameters\n",
    "        self.c = c\n",
    "        self.n = n\n",
    "        self.E = E\n",
    "        # variables initialisation\n",
    "        self.A = [Node() for empty_node in range(n)]\n",
    "        self.m = 0\n",
    "        self.t = 0\n",
    "        self.bs = np.array([1/self.n] * self.n)\n",
    "        self.mean = np.zeros(self.n)\n",
    "        self.var = np.zeros(self.n)\n",
    "        self.scoreS_new = None\n",
    "        self.scoreS_old = None\n",
    "        self.scoreS_second_old = None\n",
    "        self.scoreW_new = None \n",
    "        self.scoreW_old = None\n",
    "        self.scoreW_second_old = None\n",
    "        self.anomrankS_list = []\n",
    "        self.anomrankW_list = []\n",
    "        \n",
    "    def add_edge(self, src: int, trg: int, w: int):\n",
    "        \"\"\"Add a directed weighted edge to the graph.\n",
    "        \n",
    "        Parameters\n",
    "        ----------\n",
    "        src\n",
    "            Source node of the edge.\n",
    "        trg\n",
    "            Target node of the edge.\n",
    "        w\n",
    "            Weight of the edge.\n",
    "            \n",
    "        Returns\n",
    "        -------\n",
    "        None\n",
    "        \"\"\"\n",
    "        in_matrix = False\n",
    "        for index in range(len(self.A[src].out_node)):\n",
    "            if(self.A[src].out_node[index] == trg):\n",
    "                self.A[src].out_weight[index] += w\n",
    "                self.A[src].total_w += w\n",
    "                in_matrix = True\n",
    "                break\n",
    "\n",
    "        if not in_matrix:\n",
    "            self.A[src].out_node.append(trg)\n",
    "            self.A[src].out_weight.append(w)\n",
    "            self.A[src].total_w += w\n",
    "            self.A[src].out_degree += 1\n",
    "        self.m += 1\n",
    "\n",
    "    def pagerank_s(self):\n",
    "        \"\"\"Compute non-weighted PageRank score for each node of the graph.\n",
    "        \n",
    "        Parameters\n",
    "        ----------\n",
    "        None\n",
    "            \n",
    "        Returns\n",
    "        -------\n",
    "        Vector with the PageRank score of each node.\n",
    "        \"\"\"\n",
    "        b = self.c * self.bs\n",
    "        pr_prev = b\n",
    "        delta_score = 100\n",
    "        nb_edges =  [node.out_degree for node in self.A] #to check\n",
    "        \n",
    "        while delta_score > self.E:\n",
    "            pr = np.zeros(self.n)\n",
    "            delta = (1-self.c)* np.divide(pr_prev, nb_edges, out=np.zeros_like(pr_prev), where=nb_edges!=0)\n",
    "            \n",
    "            for scr_index in range(len(self.A)):\n",
    "                for trg_index in range(len(self.A[scr_index])):\n",
    "                    trg_name = self.A[scr_index].out_node[trg_index]\n",
    "                    pr[trg_name] += delta[scr_index]\n",
    "            \n",
    "            delta_score = LA.norm(pr, 1)\n",
    "            b += pr\n",
    "            pr_prev = pr\n",
    "        \n",
    "        score_sum = np.sum(b)\n",
    "        b = np.divide(b, score_sum, out=np.zeros_like(b), where=score_sum!=0)\n",
    "        return b\n",
    "    \n",
    "    def pagerank_w(self):\n",
    "        \"\"\"Compute Weighted PageRank score for each node of the graph.\n",
    "        \n",
    "        Parameters\n",
    "        ----------\n",
    "        None\n",
    "            \n",
    "        Returns\n",
    "        -------\n",
    "        Vector with the Weighted PageRank score of each node.\n",
    "        \"\"\"\n",
    "        weighted_degree = [node.total_w for node in self.A]\n",
    "        b = [self.c * weight / self.m for weight in weighted_degree]\n",
    "        pr_prev = b\n",
    "        delta_score = 100\n",
    "        \n",
    "        while delta_score > self.E:\n",
    "            pr = np.zeros(self.n)\n",
    "            delta = (1-self.c)* np.divide(pr_prev, weighted_degree, out=np.zeros_like(pr_prev), where=weighted_degree!=0)\n",
    "            for scr_index in range(len(self.A)):\n",
    "                for trg_index in range(len(self.A[scr_index])):\n",
    "                    trg_name = self.A[scr_index].out_node[trg_index]\n",
    "                    pr[trg_name] += delta[scr_index] * self.A[scr_index].out_weight[trg_index]\n",
    "            \n",
    "            delta_score = LA.norm(pr, 1)\n",
    "            b += pr\n",
    "            pr_prev = pr\n",
    "            \n",
    "        score_sum = np.sum(b)\n",
    "        b = np.divide(b, score_sum, out=np.zeros_like(b), where=score_sum!=0)\n",
    "        return b\n",
    "    \n",
    "    def learn_one(self, x: list) -> \"AnomRank\":\n",
    "        \"\"\"Update the model with the input edges and pagerank scores.\n",
    "        \n",
    "        Parameters\n",
    "        ----------\n",
    "        x\n",
    "            list of edges containing source node and target node.\n",
    "            \n",
    "        Returns\n",
    "        -------\n",
    "        self \n",
    "            The model\n",
    "        \"\"\"\n",
    "        for edge in x:\n",
    "            self.add_edge(edge[0], edge[1], 1)\n",
    "        self.t += 1\n",
    "        # update scoreS\n",
    "        self.scoreS_second_old = self.scoreS_old\n",
    "        self.scoreS_old = self.scoreS_new\n",
    "        self.scoreS_new = self.pagerank_s() \n",
    "        # update scoreW\n",
    "        self.scoreW_second_old = self.scoreW_old\n",
    "        self.scoreW_old = self.scoreW_new\n",
    "        self.scoreW_new = self.pagerank_w()\n",
    "        return self\n",
    "\n",
    "    def normalize_score(self, scores):\n",
    "        self.mean = self.t / (self.t + 1) * self.mean + 1 / (self.t + 1) * np.array(scores)\n",
    "        self.var = self.t / (self.t + 1) * self.var + 1 / (self.t + 1) * np.array(scores)**2\n",
    "        standard_dev = np.sqrt(self.var - self.mean**2)\n",
    "        scores -= self.mean\n",
    "        scores = np.divide(scores, standard_dev, out=np.zeros_like(scores), where=standard_dev!=0) \n",
    "        return scores\n",
    "\n",
    "    def score_one(self) -> float:\n",
    "        \"\"\"Return an outlier score.\n",
    "        A high score is indicative of an anomaly. A low score corresponds a normal observation.\n",
    "\n",
    "        Parameters\n",
    "        ----------\n",
    "        None\n",
    "            \n",
    "        Returns\n",
    "        -------\n",
    "        An anomaly score. A high score is indicative of an anomaly. A low score corresponds a\n",
    "        normal observation.\n",
    "        \"\"\"\n",
    "        \n",
    "        if not self.scoreW_second_old is None:\n",
    "            # compute anomrankS\n",
    "            scoreS_1d = self.scoreS_new - self.scoreS_old #1st deriative\n",
    "            scoreS_1d_norm = self.normalize_score(scoreS_1d)\n",
    "            scoreS_2d = self.scoreS_new - 2*self.scoreS_old + self.scoreS_second_old #2nd deriative\n",
    "            scoreS_2d_norm = self.normalize_score(scoreS_2d)\n",
    "            anomrankS = np.concatenate((scoreS_1d, scoreS_2d), axis=0)\n",
    "            anomrankS_score = LA.norm(anomrankS, 1)\n",
    "            self.anomrankS_list.append(anomrankS_score)\n",
    "            # compute anomrankW\n",
    "            scoreW_1d = self.scoreW_new - self.scoreW_old #1st deriative\n",
    "            scoreW_1d_norm = self.normalize_score(scoreW_1d)\n",
    "            scoreW_2d = self.scoreW_new - 2*self.scoreW_old + self.scoreW_second_old #2nd deriative\n",
    "            scoreW_2d_norm = self.normalize_score(scoreW_2d)\n",
    "            anomrankW = np.concatenate((scoreW_1d, scoreW_2d), axis=0)\n",
    "            anomrankW_score = LA.norm(anomrankW, 1)\n",
    "            self.anomrankW_list.append(anomrankW_score)\n",
    "            # compute anomaly score\n",
    "            anomaly_score = max(anomrankS_score, anomrankW_score)\n",
    "            return anomaly_score\n",
    "        else:\n",
    "            print(\"Can't provide a real score, missing data points.\")\n",
    "            return 0.0\n"
   ]
  },
  {
   "cell_type": "code",
   "execution_count": 57,
   "id": "4289bb38",
   "metadata": {},
   "outputs": [],
   "source": [
    "model = AnomRank(n=n)"
   ]
  },
  {
   "cell_type": "code",
   "execution_count": 58,
   "id": "47b868af",
   "metadata": {},
   "outputs": [
    {
     "name": "stderr",
     "output_type": "stream",
     "text": [
      "  0%|                                                                                                                                                                                                              | 0/4554344 [00:00<?, ?it/s]/tmp/ipykernel_5652/692220352.py:134: RuntimeWarning: divide by zero encountered in true_divide\n",
      "  delta = (1-self.c)* np.divide(pr_prev, nb_edges, out=np.zeros_like(pr_prev), where=nb_edges!=0)\n",
      "/tmp/ipykernel_5652/692220352.py:167: RuntimeWarning: invalid value encountered in true_divide\n",
      "  delta = (1-self.c)* np.divide(pr_prev, weighted_degree, out=np.zeros_like(pr_prev), where=weighted_degree!=0)\n",
      "/tmp/ipykernel_5652/692220352.py:167: RuntimeWarning: divide by zero encountered in true_divide\n",
      "  delta = (1-self.c)* np.divide(pr_prev, weighted_degree, out=np.zeros_like(pr_prev), where=weighted_degree!=0)\n",
      "  0%|▏                                                                                                                                                                                               | 4696/4554344 [00:00<02:43, 27798.61it/s]"
     ]
    },
    {
     "name": "stdout",
     "output_type": "stream",
     "text": [
      "Can't provide a real score, missing data points.\n",
      "Can't provide a real score, missing data points.\n"
     ]
    },
    {
     "name": "stderr",
     "output_type": "stream",
     "text": [
      "  1%|██▊                                                                                                                                                                                             | 67519/4554344 [00:03<07:42, 9703.82it/s]/tmp/ipykernel_5652/692220352.py:134: RuntimeWarning: invalid value encountered in true_divide\n",
      "  delta = (1-self.c)* np.divide(pr_prev, nb_edges, out=np.zeros_like(pr_prev), where=nb_edges!=0)\n",
      "100%|██████████████████████████████████████████████████████████████████████████████████████████████████████████████████████████████████████████████████████████████████████████████████████████████| 4554344/4554344 [11:52<00:00, 6395.64it/s]\n"
     ]
    }
   ],
   "source": [
    "from tqdm import tqdm\n",
    "from math import floor\n",
    "\n",
    "t = []\n",
    "score_list = []\n",
    "time_step = 60\n",
    "current_time = 0\n",
    "batch_edges = []\n",
    "\n",
    "for edge in tqdm(edges):\n",
    "    if edge[0] >= current_time + time_step:\n",
    "        model.learn_one(batch_edges)\n",
    "        score = model.score_one()\n",
    "        score_list.append(score)\n",
    "        current_time += time_step\n",
    "        t.append(current_time)\n",
    "        batch_edges = [[edge[1], edge[2]]]\n",
    "    else:\n",
    "        batch_edges.append([edge[1], edge[2]])\n"
   ]
  },
  {
   "cell_type": "code",
   "execution_count": 59,
   "id": "00bf5bc7",
   "metadata": {},
   "outputs": [
    {
     "data": {
      "text/plain": [
       "AnomRank (\n",
       "  n=25525\n",
       "  c=0.5\n",
       "  E=0.001\n",
       ")"
      ]
     },
     "execution_count": 59,
     "metadata": {},
     "output_type": "execute_result"
    }
   ],
   "source": [
    "model"
   ]
  },
  {
   "cell_type": "code",
   "execution_count": 61,
   "id": "7e7f5e84",
   "metadata": {},
   "outputs": [
    {
     "name": "stderr",
     "output_type": "stream",
     "text": [
      "100%|████████████████████████████████████████████████████████████████████████████████████████████████████████████████████████████████████████████████████████████████████████████████████████████| 4554344/4554344 [00:04<00:00, 940158.74it/s]\n"
     ]
    }
   ],
   "source": [
    "from tqdm import tqdm\n",
    "import matplotlib.pyplot as plt\n",
    "\n",
    "time_step = 60\n",
    "current_time = 0\n",
    "batch_attks = []\n",
    "attk_list = []\n",
    "for edge in tqdm(edges):\n",
    "    if edge[0] >= current_time + time_step:\n",
    "        current_time += time_step\n",
    "        attk_list.append(np.array(batch_attks).sum() > 50)\n",
    "        batch_attks = [edge[3]]\n",
    "    else:\n",
    "        batch_edges.append([edge[1], edge[2]])\n",
    "        batch_attks.append(edge[3])"
   ]
  },
  {
   "cell_type": "code",
   "execution_count": 62,
   "id": "f0898f6f",
   "metadata": {},
   "outputs": [
    {
     "data": {
      "text/plain": [
       "Text(0, 0.5, 'anomaly score')"
      ]
     },
     "execution_count": 62,
     "metadata": {},
     "output_type": "execute_result"
    },
    {
     "data": {
      "image/png": "[encoded data removed]",
      "text/plain": [
       "<Figure size 432x288 with 1 Axes>"
      ]
     },
     "metadata": {
      "needs_background": "light"
     },
     "output_type": "display_data"
    }
   ],
   "source": [
    "plt.rc('font', size=13)\n",
    "init_time = 255\n",
    "plt.plot([minuts/60 - init_time for minuts in t[init_time:]], score_list[init_time:])\n",
    "plt.xlabel('time (hours)')\n",
    "plt.ylabel('anomaly score')"
   ]
  },
  {
   "cell_type": "code",
   "execution_count": 63,
   "id": "a81d31e8",
   "metadata": {},
   "outputs": [],
   "source": [
    "selected_attacks = attk_list[init_time:]"
   ]
  },
  {
   "cell_type": "code",
   "execution_count": 64,
   "id": "026779a1",
   "metadata": {},
   "outputs": [
    {
     "data": {
      "text/plain": [
       "Text(0, 0.5, 'log(anomaly score)')"
      ]
     },
     "execution_count": 64,
     "metadata": {},
     "output_type": "execute_result"
    },
    {
     "data": {
      "image/png": "[encoded data removed]",
      "text/plain": [
       "<Figure size 432x288 with 1 Axes>"
      ]
     },
     "metadata": {
      "needs_background": "light"
     },
     "output_type": "display_data"
    }
   ],
   "source": [
    "attaks_position = []\n",
    "for i in range(len(attk_list)):\n",
    "    if attk_list[i]:\n",
    "        attaks_position.append(score_list[i])\n",
    "    else:\n",
    "        attaks_position.append(np.nan)\n",
    "init_time = 255\n",
    "plt.plot([minuts/60 - init_time for minuts in t[init_time:]], [np.log(scoring) for scoring in score_list[init_time:]])\n",
    "plt.plot([minuts/60 - init_time for minuts in t[init_time:]], [np.log(atk) for atk in attaks_position[init_time:]], 'x')\n",
    "plt.xlabel('time (hours)')\n",
    "plt.ylabel('log(anomaly score)')"
   ]
  },
  {
   "cell_type": "code",
   "execution_count": 69,
   "id": "743a16af",
   "metadata": {},
   "outputs": [],
   "source": [
    "selected_scores = []\n",
    "offset = 2\n",
    "eval_scores = score_list\n",
    "\n",
    "for i in range(init_time - offset, len(eval_scores) - offset):\n",
    "    selected_scores.append((eval_scores[i], i-init_time))"
   ]
  },
  {
   "cell_type": "code",
   "execution_count": 70,
   "id": "3c40d897",
   "metadata": {},
   "outputs": [],
   "source": [
    "selected_scores.sort(key=lambda y: y[0], reverse=True)"
   ]
  },
  {
   "cell_type": "code",
   "execution_count": 72,
   "id": "f8c8bbfb",
   "metadata": {},
   "outputs": [
    {
     "name": "stdout",
     "output_type": "stream",
     "text": [
      "precision @50:  0.8\n",
      "precision @100:  0.61\n",
      "precision @150:  0.5533333333333333\n",
      "precision @250:  0.44\n",
      "precision @500:  0.39\n"
     ]
    }
   ],
   "source": [
    "tops = [50, 100, 150, 250, 500]\n",
    "for top in tops:\n",
    "    tp = 0\n",
    "    fp = 0\n",
    "    for high in selected_scores[:top]:\n",
    "        if selected_attacks[high[1]]:\n",
    "            tp += 1\n",
    "        else:\n",
    "            fp += 1\n",
    "    print(\"precision @\" + str(top) + \": \", tp/top)"
   ]
  },
  {
   "cell_type": "code",
   "execution_count": null,
   "id": "69b67817",
   "metadata": {},
   "outputs": [],
   "source": []
  }
 ],
 "metadata": {
  "kernelspec": {
   "display_name": "Python 3",
   "language": "python",
   "name": "python3"
  },
  "language_info": {
   "codemirror_mode": {
    "name": "ipython",
    "version": 3
   },
   "file_extension": ".py",
   "mimetype": "text/x-python",
   "name": "python",
   "nbconvert_exporter": "python",
   "pygments_lexer": "ipython3",
   "version": "3.8.3"
  }
 },
 "nbformat": 4,
 "nbformat_minor": 5
}
